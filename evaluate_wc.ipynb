{
 "cells": [
  {
   "cell_type": "code",
   "execution_count": 3,
   "metadata": {},
   "outputs": [],
   "source": [
    "import random\n",
    "import jiwer\n",
    "\n",
    "import resource\n",
    "import pickle\n",
    "from resource import get_sentiment_lexicon\n",
    "\n",
    "from textflint.common.settings import MODIFIED_MASK\n",
    "from textflint.common.utils.word_op import swap\n",
    "from textflint.generation.transformation import WordSubstitute\n",
    "from textflint.generation.transformation.UT import Keyboard, Typos\n",
    "from textflint.input.component.sample import UTSample\n",
    "from utils import visualize_text_diff, Accent, TypoSwap, AddVowel\n",
    "from torch.utils.data import DataLoader\n",
    "import torch\n",
    "import numpy as np\n",
    "import pandas as pd\n",
    "from allennlp.training.metrics import CategoricalAccuracy, Average\n"
   ]
  },
  {
   "cell_type": "markdown",
   "metadata": {},
   "source": [
    "### Word Corruption Evaluation"
   ]
  },
  {
   "cell_type": "code",
   "execution_count": 221,
   "metadata": {},
   "outputs": [],
   "source": [
    "# df"
   ]
  },
  {
   "cell_type": "code",
   "execution_count": 225,
   "metadata": {},
   "outputs": [
    {
     "data": {
      "text/plain": [
       "0       2.75\n",
       "1       2.75\n",
       "2       2.75\n",
       "3       2.75\n",
       "4       2.75\n",
       "        ... \n",
       "8516    3.00\n",
       "8517    3.00\n",
       "8518    3.00\n",
       "8519    3.00\n",
       "8520    3.00\n",
       "Name: countM, Length: 8521, dtype: float64"
      ]
     },
     "execution_count": 225,
     "metadata": {},
     "output_type": "execute_result"
    }
   ],
   "source": [
    "temp = df.groupby(\"index\")['countM'].transform(lambda x: max(x))\n",
    "temp"
   ]
  },
  {
   "cell_type": "code",
   "execution_count": 281,
   "metadata": {},
   "outputs": [],
   "source": [
    "def get_result(\n",
    "    dataset_name, model_name,\n",
    "    ):\n",
    "    with open(f'outputs/{dataset_name}_noisy.pickle', 'rb') as file:\n",
    "        noisy_data = pickle.load(file)\n",
    "    with open(f'outputs_local/{dataset_name}_{model_name}.pickle', 'rb') as file:\n",
    "        examples = pickle.load(file)\n",
    "    df = pd.DataFrame.from_dict( examples )\n",
    "    #test_data = resource.datasets[dataset_name][0]['test']\n",
    "    # print(df)\n",
    "    print(len(noisy_data), max(df['index']))\n",
    "    df['text'] = [noisy_data[index][1][f'x'] for index in df['index']]\n",
    "    df['noisy_txt'] = [noisy_data[index][1][f'x_{noise_type}'] for index, noise_type in zip(df['index'], df['noise_type'])]\n",
    "    \n",
    "    if model_name not in ['bert-base-uncased', 'roberta-base', 'albert-base-v2'] :\n",
    "        df['conf'] = df.apply(lambda example:  torch.nn.functional.softmax(example.logit, dim=0).tolist()[example.label], axis=1)\n",
    "        df['conf_clean'] = df.apply(lambda example: torch.nn.functional.softmax(example.logit_clean, dim=0).tolist()[example.label], axis=1)\n",
    "        df['pred'] = df.logit.map(lambda logit: torch.argmax(logit, dim=0).item())\n",
    "        df['pred_clean'] =df.logit_clean.map(lambda logit: torch.argmax(logit, dim=0).item())\n",
    "        df['correct'] = df.pred == df.label\n",
    "        df['correct_clean'] = df.pred_clean == df.label\n",
    "    df['countN'] = df['N_sets'].apply(lambda x: len(x[0]))\n",
    "    return df\n",
    "\n",
    "\n",
    "def evaluate(\n",
    "    output_dir,\n",
    "    dataset_name, \n",
    "    model_name='bert-base-uncased-SST-2', \n",
    "    acc=True, \n",
    "    mode = None,\n",
    "    print_acc_sim_by_noise=False,\n",
    "    seq_max_len=None,\n",
    "    no_consistent_pred=False\n",
    "    ):\n",
    "    \"\"\" \n",
    "        ## return \n",
    "        df:  for classifiers, samples whose clean texts are correctly predicted and satisfy the seq_max_len\n",
    "         for LM for sentiment lexicon, we return all the samples\n",
    "    \"\"\"\n",
    "    with open(f'{output_dir}/{dataset_name}_noisy.pickle', 'rb') as file:\n",
    "        noisy_data = pickle.load(file)\n",
    "    noisy_data = dict(noisy_data)\n",
    "    with open(f'{output_dir}/{dataset_name}_{model_name}.pickle', 'rb') as file:\n",
    "        examples = pickle.load(file)\n",
    "\n",
    "    df = pd.DataFrame.from_dict( examples )\n",
    "    df['countN'] = df['N_sets'].apply(lambda x: len(x[0]))\n",
    "    df['text'] = [noisy_data[index][f'x'] for index in df['index']]\n",
    "    df['noisy_txt'] = [noisy_data[index][f'x_{noise_type}'] for index, noise_type in zip(df['index'], df['noise_type'])]\n",
    "    \n",
    "    # for seq_max_len\n",
    "    valid_index = []\n",
    "    if seq_max_len is not None:\n",
    "        for index, data in noisy_data:\n",
    "            if len(data['x']) < seq_max_len:\n",
    "                valid_index.append(index)\n",
    "        print('Valid Length: ', len(valid_index))\n",
    "        df = df[[True if i in valid_index else False for i in df['index'] ]]\n",
    "\n",
    "    # for intact word corruption\n",
    "    if mode == 'intact':\n",
    "        print('All noisy words: ', len(df))\n",
    "        df = df[df.countO== 1][df.wcr1 == 1]\n",
    "        print('Intact Word Corruption: ', len(df))\n",
    "    elif mode == \"partial\":\n",
    "        df = df[df.countO>=1][df.countN>0]\n",
    "        df['countM_by_O'] = [cm/co for cm, co in zip(df['countM'], df['countO'])]\n",
    "        df['countM_by_O_round'] = [round(cm/co) for cm, co in zip(df['countM'], df['countO'])]\n",
    "    elif mode == \"all\":\n",
    "        pass\n",
    "    \n",
    "    # no compound words\n",
    "    if dataset_name == \"sentiment-lexicon\":\n",
    "        df = df.iloc[[True if len(lst)==1 else False for lst in df['text'] ]]\n",
    "\n",
    "    ax = df.plot.scatter( x='countM', y='cos_sim', c='blue', alpha=0.3 )\n",
    "    ax = df.plot.scatter( x='countM_by_word_len', y='cos_sim', c='blue', alpha=0.3 )\n",
    "    plt.show()\n",
    "\n",
    "    if acc:\n",
    "        if dataset_name != \"sentiment-lexicon\":\n",
    "            df['conf'] = df.apply(lambda example:  torch.nn.functional.softmax(example.logit, dim=0).tolist()[example.label], axis=1)\n",
    "            df['conf_clean'] = df.apply(lambda example: torch.nn.functional.softmax(example.logit_clean, dim=0).tolist()[example.label], axis=1)\n",
    "            df['pred'] = df.logit.map(lambda logit: torch.argmax(logit, dim=0).item())\n",
    "            df['pred_clean'] =df.logit_clean.map(lambda logit: torch.argmax(logit, dim=0).item())\n",
    "            df['correct'] = df.pred == df.label\n",
    "            df['correct_clean'] = df.pred_clean == df.label\n",
    "            \n",
    "            print('Clean Accuracy:', df['correct_clean'].mean(), f\" for {len(df)} examples.\")\n",
    "            print('only keep rows of which clean text is correctly predicted in df' )\n",
    "            df = df[df['correct_clean']==True]\n",
    "            \n",
    "            if no_consistent_pred:\n",
    "                #  not include examples consistenct predictoins\n",
    "                consistent_pred_index = []\n",
    "                for i, group in df[['index', 'correct']].groupby(['index']):\n",
    "                    if len(group.correct.unique())==1:\n",
    "                        consistent_pred_index.append(list(group['index'])[0])\n",
    "                df = df[~df['index'].isin(consistent_pred_index)]\n",
    "            df = df.reset_index()\n",
    "            \n",
    "            print('Misclassification Rate:')\n",
    "            # <0.3, 0.3 - 0.5, >0.5\n",
    "            print(\n",
    "                '<0.3:', \n",
    "                1- df[df[\"countM_by_word_len\"]<0.3]['correct'].mean(),\n",
    "                ' (cos_sim:', {df[df[\"countM_by_word_len\"]<0.3]['cos_sim'].mean()}, ')'\n",
    "                )\n",
    "            max_val = 0.8\n",
    "            print(\n",
    "                f'0.3-{max_val}:', \n",
    "                1- df[df[\"countM_by_word_len\"]>=0.3][df[\"countM_by_word_len\"]<=max_val]['correct'].mean(),\n",
    "                ' (cos_sim:', {df[df[\"countM_by_word_len\"]>=0.3][df[\"countM_by_word_len\"]<=max_val]['cos_sim'].mean()}, ')'\n",
    "                )\n",
    "            print(\n",
    "                f'>{max_val}:', \n",
    "                1- df[df[\"countM_by_word_len\"]>max_val]['correct'].mean(),\n",
    "                ' (cos_sim:', {df[df[\"countM_by_word_len\"]>max_val]['cos_sim'].mean()}, ')'\n",
    "                )\n",
    "            # print(\n",
    "            #     'for samples with min countM:', \n",
    "            #     1- df.iloc[df.groupby(\"index\")[\"countM\"].idxmin()]['correct'].mean(),\n",
    "            #     ' (cos_sim:', {df.iloc[df.groupby(\"index\")[\"countM\"].idxmin()]['cos_sim'].mean()}, ')'\n",
    "            #     )\n",
    "            # print(\n",
    "            #     'for all samples:', \n",
    "            #     1-df['correct'].mean(),\n",
    "            #     ' (cos_sim:', df['cos_sim'].mean(), ')')\n",
    "            # print(\n",
    "            #     'for samples with max countM:', \n",
    "            #     1-df.iloc[df.groupby(\"index\")[\"countM\"].idxmax()]['correct'].mean(),\n",
    "            #     ' (cos_sim:',{df.iloc[df.groupby(\"index\")[\"countM\"].transform(lambda x:x.max()).idx()]['cos_sim'].mean()},')')\n",
    "\n",
    "#         wcs1_round_dist = {}\n",
    "#         for score in sorted(df['countM_round'].unique()):\n",
    "#             examples = df[(df['countM_round'] == score)]\n",
    "# \n",
    "#             print(f'Metric for {score}')\n",
    "#             \n",
    "#             if dataset_name != \"sentiment-lexicon\":\n",
    "#                 print(  1-examples.correct.mean())\n",
    "#                 print( 'conf:', df.conf.mean())\n",
    "# \n",
    "#             wcs1_round_dist[score] =  len(examples)\n",
    "# \n",
    "#         print('Score Distribution: ', wcs1_round_dist)\n",
    "        \n",
    "        if print_acc_sim_by_noise:          \n",
    "            noiser_names = [k[2:] for k in noisy_data[0].keys() if k.startswith('x_')]\n",
    "            for noise_type in noiser_names:\n",
    "                if dataset_name != \"sentiment-lexicon\":\n",
    "                    print(f'Misclassification Rate for {noise_type}: ', 1-df[df.noise_type==noise_type].correct.mean())\n",
    "                print(f'avg sim for {noise_type}: ', df[df.noise_type==noise_type].cos_sim.mean())\n",
    "\n",
    "    else: # evaluating word corruption\n",
    "        \n",
    "        noiser_names = [k[2:] for k in noisy_data[0].keys() if k.startswith('x_')]\n",
    "        print(noiser_names)\n",
    "        for noise_type in noiser_names:\n",
    "            print(f'avg countM for {noise_type}: ', df[df.noise_type==noise_type]['countM'].mean())\n",
    "            print(f'avg countO for {noise_type}: ', df[df.noise_type==noise_type]['countO'].mean())\n",
    "            print(f'avg countM_by_word_len for {noise_type}: ', df[df.noise_type==noise_type]['countM_by_word_len'].mean())\n",
    "            print(f'avg wcr1 for {noise_type}: ', df[df.noise_type==noise_type]['wcr1'].mean())\n",
    "            # print(f'avg wcr2 for {noise_type}: ', df[df.noise_type==noise_type]['wcr2'].mean())\n",
    "\n",
    "    return df\n"
   ]
  },
  {
   "cell_type": "code",
   "execution_count": 282,
   "metadata": {},
   "outputs": [
    {
     "name": "stdout",
     "output_type": "stream",
     "text": [
      "All noisy words:  1552\n",
      "Intact Word Corruption:  700\n"
     ]
    },
    {
     "name": "stderr",
     "output_type": "stream",
     "text": [
      "/home/xinzhel/.pyenv/versions/3.7.9/envs/allennlp-dev/lib/python3.7/site-packages/ipykernel_launcher.py:64: UserWarning: Boolean Series key will be reindexed to match DataFrame index.\n"
     ]
    },
    {
     "data": {
      "image/png": "[encoded data removed]",
      "text/plain": [
       "<Figure size 432x288 with 1 Axes>"
      ]
     },
     "metadata": {
      "needs_background": "light"
     },
     "output_type": "display_data"
    },
    {
     "data": {
      "image/png": "[encoded data removed]",
      "text/plain": [
       "<Figure size 432x288 with 1 Axes>"
      ]
     },
     "metadata": {
      "needs_background": "light"
     },
     "output_type": "display_data"
    },
    {
     "name": "stdout",
     "output_type": "stream",
     "text": [
      "['keyboard', 'typoswap', 'accent', 'addvowel', 'deletevowel']\n",
      "avg countM for keyboard:  3.410958904109589\n",
      "avg countO for keyboard:  1.0\n",
      "avg countM_by_word_len for keyboard:  0.4555271592942826\n",
      "avg wcr1 for keyboard:  1.0\n",
      "avg countM for typoswap:  3.390625\n",
      "avg countO for typoswap:  1.0\n",
      "avg countM_by_word_len for typoswap:  0.41797750860250865\n",
      "avg wcr1 for typoswap:  1.0\n",
      "avg countM for accent:  nan\n",
      "avg countO for accent:  nan\n",
      "avg countM_by_word_len for accent:  nan\n",
      "avg wcr1 for accent:  nan\n",
      "avg countM for addvowel:  3.306122448979592\n",
      "avg countO for addvowel:  1.0\n",
      "avg countM_by_word_len for addvowel:  0.43940048991069397\n",
      "avg wcr1 for addvowel:  1.0\n",
      "avg countM for deletevowel:  2.748299319727891\n",
      "avg countO for deletevowel:  1.0\n",
      "avg countM_by_word_len for deletevowel:  0.36170290404984284\n",
      "avg wcr1 for deletevowel:  1.0\n"
     ]
    }
   ],
   "source": [
    "output_dir = \"outputs_local_single_noise\"\n",
    "dataset_name = \"sentiment-lexicon\"\n",
    "model_name = 'bert-base-uncased'\n",
    "seq_max_len=None\n",
    "# Evaluate tokenizers via WCR\n",
    "# df = evaluate(dataset_name = dataset_name, model_name=model_name, acc=False)\n",
    "\n",
    "# Evaluate PLMs via accuracy and cosine similarity\n",
    "# Evaluating PLMs\n",
    "df = evaluate(\n",
    "    output_dir = output_dir,\n",
    "    dataset_name = dataset_name, \n",
    "    model_name=model_name, \n",
    "    acc=False, \n",
    "    mode=\"intact\", \n",
    "    seq_max_len=seq_max_len, \n",
    "    no_consistent_pred=False,\n",
    "    print_acc_sim_by_noise=True)\n"
   ]
  },
  {
   "cell_type": "code",
   "execution_count": 196,
   "metadata": {},
   "outputs": [
    {
     "data": {
      "text/plain": [
       "Index(['level_0', 'index', 'label', 'noise_type', 'countM',\n",
       "       'countM_by_word_len', 'countM_round', 'countM_by_word_len_round',\n",
       "       'countO', 'countO_round', 'wcr1', 'wcr2', 'cos_sim', 'logit',\n",
       "       'logit_clean', 'O_sets', 'M_sets', 'N_sets', 'countN', 'text',\n",
       "       'noisy_txt', 'conf', 'conf_clean', 'pred', 'pred_clean', 'correct',\n",
       "       'correct_clean'],\n",
       "      dtype='object')"
      ]
     },
     "execution_count": 196,
     "metadata": {},
     "output_type": "execute_result"
    }
   ],
   "source": [
    "df.columns"
   ]
  },
  {
   "cell_type": "code",
   "execution_count": 129,
   "metadata": {},
   "outputs": [],
   "source": [
    "# Outlier analysis\n",
    "# select = df[df['cos_sim'] > 0.7][df['countM']==2]\n",
    "# print(f'Select {len(select)} examples')\n",
    "# for cos_sim, example,noisy_txt, M_set, O_set in zip(select['cos_sim'], select['text'],select['noisy_txt'], select['M_sets'], select['O_sets']):\n",
    "#     # print \n",
    "#     print(round(cos_sim,2))\n",
    "#     print( example)\n",
    "#     print(' '.join(noisy_txt))\n",
    "#     print(M_set)\n",
    "#     print(O_set)\n",
    "# \n",
    "# \n",
    "# for cos_sim, example,noisy_txt, M_set, O_set in zip(select['cos_sim'], select['text'],select['noisy_txt'], select['M_sets'], select['O_sets']):\n",
    "#     # print \n",
    "#     print(round(cos_sim,2))\n",
    "#     print( example)\n",
    "#     print(' '.join(noisy_txt))\n",
    "#     print(M_set)\n",
    "#     print(O_set)\n",
    "\n"
   ]
  },
  {
   "cell_type": "code",
   "execution_count": 127,
   "metadata": {},
   "outputs": [],
   "source": [
    "# Word corruption: N set is empty; |O| is 1\n",
    "# correlate with |M|\n",
    "df = df[df['wcr1'] >= 1][df['wcr2'] >= 1] \n",
    "df = df[df.countO == 1]\n",
    "# df['countM_by_O'] = [cm/co for cm, co in zip(df['countM'], df['countO'])]\n",
    "# df[df.countM==2.5]\n",
    "# df_copy.groupby('countM').mean()\n",
    "# ax = df_copy.plot.scatter( x='countM_by_O', y='cos_sim', c='DarkBlue' )\n",
    "# plt.show()"
   ]
  },
  {
   "cell_type": "markdown",
   "metadata": {},
   "source": [
    "### Analyzing the results"
   ]
  },
  {
   "cell_type": "code",
   "execution_count": 65,
   "metadata": {},
   "outputs": [],
   "source": [
    "\n",
    "import matplotlib.pyplot as plt\n",
    "import seaborn as sns\n",
    "# The vulnerability of BPE tokenizers\n",
    "# print(resource.hf_tokenizers['bert'].tokenize('transform'))\n",
    "# print(resource.hf_tokenizers['bert'].tokenize('transformerify'))\n",
    "# print(resource.hf_tokenizers['bert'].tokenize('transformer'))\n",
    "# print(resource.hf_tokenizers['roberta'].tokenize('transform'))\n",
    "# print(resource.hf_tokenizers['roberta'].tokenize('transformerify'))\n",
    "# print(resource.hf_tokenizers['roberta'].tokenize('transformer'))\n",
    "# print(resource.hf_tokenizers['albert'].tokenize('transform'))\n",
    "# print(resource.hf_tokenizers['albert'].tokenize('transformerify'))\n",
    "# print(resource.hf_tokenizers['albert'].tokenize('transformer'))\n",
    "\n",
    "# the sizes of agreement sets\n",
    "# dataset_name = \"sentiment-lexicon\"\n",
    "# model_name = 'roberta-base'\n",
    "# df = get_result(dataset_name, model_name)\n",
    "# df['countN'] = df['N_sets'].apply(lambda x: len(x[0]))\n",
    "# df['countN'].mean()\n",
    "# 'albert-base-v2': 0.15\n",
    "# bert-base-uncased: 0.12\n",
    "# roberta-base: 0.51\n",
    "\n",
    "# Minimum Functional Text\n",
    "# import checklist\n",
    "# from checklist.editor import Editor\n",
    "# from checklist.perturb import Perturb\n",
    "# with open(f\"outputs/sentiment-lexicon_noisy.pickle\", 'rb') as f:\n",
    "#     noisy_data = pickle.load(f)\n",
    "# assert len(noisy_data) == 200\n",
    "# pos_lexicon, neg_lexicon = noisy_data[:100], noisy_data[100:]\n",
    "# editor = Editor()\n",
    "# editor.add_lexicon('pos', pos_lexicon)\n",
    "# editor.add_lexicon('neg', neg_lexicon)\n",
    "# mft_pos_examples = editor.template('This is {pos}', labels = 1,)\n",
    "# mft_neg_examples = editor.template('This is {neg}', labels = 0, )\n",
    "# mft_data = mft_pos_examples.data\n",
    "# mft_data.extend(mft_neg_examples.data)\n",
    "# mft_labels = mft_pos_examples.labels\n",
    "# mft_labels.extend(mft_neg_examples.labels)"
   ]
  },
  {
   "cell_type": "code",
   "execution_count": 126,
   "metadata": {},
   "outputs": [
    {
     "name": "stdout",
     "output_type": "stream",
     "text": [
      "400 199\n",
      "total size:  981\n",
      "total size:  109\n",
      "total size:  63\n",
      "1.0 : 3\n",
      "1.5 : 2\n",
      "2.0 : 15\n",
      "2.5 : 6\n",
      "3.0 : 25\n",
      "4.0 : 10\n",
      "5.0 : 2\n",
      "[]\n"
     ]
    },
    {
     "name": "stderr",
     "output_type": "stream",
     "text": [
      "/home/xinzhel/.pyenv/versions/3.7.9/envs/allennlp-dev/lib/python3.7/site-packages/ipykernel_launcher.py:6: UserWarning: Boolean Series key will be reindexed to match DataFrame index.\n",
      "  \n"
     ]
    },
    {
     "ename": "ValueError",
     "evalue": "List of boxplot statistics and `positions` values must have same the length",
     "output_type": "error",
     "traceback": [
      "\u001b[0;31m---------------------------------------------------------------------------\u001b[0m",
      "\u001b[0;31mValueError\u001b[0m                                Traceback (most recent call last)",
      "\u001b[0;32m/tmp/ipykernel_12664/3943273448.py\u001b[0m in \u001b[0;36m<module>\u001b[0;34m\u001b[0m\n\u001b[1;32m     27\u001b[0m \u001b[0;34m\u001b[0m\u001b[0m\n\u001b[1;32m     28\u001b[0m \u001b[0mprint\u001b[0m\u001b[0;34m(\u001b[0m\u001b[0mticks\u001b[0m\u001b[0;34m)\u001b[0m\u001b[0;34m\u001b[0m\u001b[0;34m\u001b[0m\u001b[0m\n\u001b[0;32m---> 29\u001b[0;31m \u001b[0mbpl\u001b[0m \u001b[0;34m=\u001b[0m \u001b[0max\u001b[0m\u001b[0;34m.\u001b[0m\u001b[0mboxplot\u001b[0m\u001b[0;34m(\u001b[0m\u001b[0mbert_sim_by_m_scores\u001b[0m\u001b[0;34m,\u001b[0m \u001b[0msym\u001b[0m\u001b[0;34m=\u001b[0m\u001b[0;34m''\u001b[0m\u001b[0;34m,\u001b[0m \u001b[0mpositions\u001b[0m\u001b[0;34m=\u001b[0m\u001b[0mrange\u001b[0m\u001b[0;34m(\u001b[0m\u001b[0;36m0\u001b[0m\u001b[0;34m,\u001b[0m \u001b[0mlen\u001b[0m\u001b[0;34m(\u001b[0m\u001b[0mticks\u001b[0m\u001b[0;34m)\u001b[0m\u001b[0;34m,\u001b[0m \u001b[0;36m1\u001b[0m\u001b[0;34m)\u001b[0m\u001b[0;34m,\u001b[0m \u001b[0mwidths\u001b[0m\u001b[0;34m=\u001b[0m\u001b[0;36m0.3\u001b[0m\u001b[0;34m)\u001b[0m\u001b[0;34m\u001b[0m\u001b[0;34m\u001b[0m\u001b[0m\n\u001b[0m\u001b[1;32m     30\u001b[0m \u001b[0mset_box_color\u001b[0m\u001b[0;34m(\u001b[0m\u001b[0mbpl\u001b[0m\u001b[0;34m,\u001b[0m \u001b[0;34m'#000000'\u001b[0m\u001b[0;34m)\u001b[0m \u001b[0;31m# colors are from http://colorbrewer2.org/\u001b[0m\u001b[0;34m\u001b[0m\u001b[0;34m\u001b[0m\u001b[0m\n\u001b[1;32m     31\u001b[0m \u001b[0max\u001b[0m\u001b[0;34m.\u001b[0m\u001b[0mset_xticks\u001b[0m\u001b[0;34m(\u001b[0m\u001b[0mrange\u001b[0m\u001b[0;34m(\u001b[0m\u001b[0;36m0\u001b[0m\u001b[0;34m,\u001b[0m \u001b[0mlen\u001b[0m\u001b[0;34m(\u001b[0m\u001b[0mticks\u001b[0m\u001b[0;34m)\u001b[0m\u001b[0;34m,\u001b[0m \u001b[0;36m1\u001b[0m\u001b[0;34m)\u001b[0m\u001b[0;34m,\u001b[0m \u001b[0mticks\u001b[0m\u001b[0;34m)\u001b[0m\u001b[0;34m\u001b[0m\u001b[0;34m\u001b[0m\u001b[0m\n",
      "\u001b[0;32m~/.pyenv/versions/3.7.9/envs/allennlp-dev/lib/python3.7/site-packages/matplotlib/__init__.py\u001b[0m in \u001b[0;36minner\u001b[0;34m(ax, data, *args, **kwargs)\u001b[0m\n\u001b[1;32m   1410\u001b[0m     \u001b[0;32mdef\u001b[0m \u001b[0minner\u001b[0m\u001b[0;34m(\u001b[0m\u001b[0max\u001b[0m\u001b[0;34m,\u001b[0m \u001b[0;34m*\u001b[0m\u001b[0margs\u001b[0m\u001b[0;34m,\u001b[0m \u001b[0mdata\u001b[0m\u001b[0;34m=\u001b[0m\u001b[0;32mNone\u001b[0m\u001b[0;34m,\u001b[0m \u001b[0;34m**\u001b[0m\u001b[0mkwargs\u001b[0m\u001b[0;34m)\u001b[0m\u001b[0;34m:\u001b[0m\u001b[0;34m\u001b[0m\u001b[0;34m\u001b[0m\u001b[0m\n\u001b[1;32m   1411\u001b[0m         \u001b[0;32mif\u001b[0m \u001b[0mdata\u001b[0m \u001b[0;32mis\u001b[0m \u001b[0;32mNone\u001b[0m\u001b[0;34m:\u001b[0m\u001b[0;34m\u001b[0m\u001b[0;34m\u001b[0m\u001b[0m\n\u001b[0;32m-> 1412\u001b[0;31m             \u001b[0;32mreturn\u001b[0m \u001b[0mfunc\u001b[0m\u001b[0;34m(\u001b[0m\u001b[0max\u001b[0m\u001b[0;34m,\u001b[0m \u001b[0;34m*\u001b[0m\u001b[0mmap\u001b[0m\u001b[0;34m(\u001b[0m\u001b[0msanitize_sequence\u001b[0m\u001b[0;34m,\u001b[0m \u001b[0margs\u001b[0m\u001b[0;34m)\u001b[0m\u001b[0;34m,\u001b[0m \u001b[0;34m**\u001b[0m\u001b[0mkwargs\u001b[0m\u001b[0;34m)\u001b[0m\u001b[0;34m\u001b[0m\u001b[0;34m\u001b[0m\u001b[0m\n\u001b[0m\u001b[1;32m   1413\u001b[0m \u001b[0;34m\u001b[0m\u001b[0m\n\u001b[1;32m   1414\u001b[0m         \u001b[0mbound\u001b[0m \u001b[0;34m=\u001b[0m \u001b[0mnew_sig\u001b[0m\u001b[0;34m.\u001b[0m\u001b[0mbind\u001b[0m\u001b[0;34m(\u001b[0m\u001b[0max\u001b[0m\u001b[0;34m,\u001b[0m \u001b[0;34m*\u001b[0m\u001b[0margs\u001b[0m\u001b[0;34m,\u001b[0m \u001b[0;34m**\u001b[0m\u001b[0mkwargs\u001b[0m\u001b[0;34m)\u001b[0m\u001b[0;34m\u001b[0m\u001b[0;34m\u001b[0m\u001b[0m\n",
      "\u001b[0;32m~/.pyenv/versions/3.7.9/envs/allennlp-dev/lib/python3.7/site-packages/matplotlib/axes/_axes.py\u001b[0m in \u001b[0;36mboxplot\u001b[0;34m(self, x, notch, sym, vert, whis, positions, widths, patch_artist, bootstrap, usermedians, conf_intervals, meanline, showmeans, showcaps, showbox, showfliers, boxprops, labels, flierprops, medianprops, meanprops, capprops, whiskerprops, manage_ticks, autorange, zorder)\u001b[0m\n\u001b[1;32m   3813\u001b[0m                            \u001b[0mmeanline\u001b[0m\u001b[0;34m=\u001b[0m\u001b[0mmeanline\u001b[0m\u001b[0;34m,\u001b[0m \u001b[0mshowfliers\u001b[0m\u001b[0;34m=\u001b[0m\u001b[0mshowfliers\u001b[0m\u001b[0;34m,\u001b[0m\u001b[0;34m\u001b[0m\u001b[0;34m\u001b[0m\u001b[0m\n\u001b[1;32m   3814\u001b[0m                            \u001b[0mcapprops\u001b[0m\u001b[0;34m=\u001b[0m\u001b[0mcapprops\u001b[0m\u001b[0;34m,\u001b[0m \u001b[0mwhiskerprops\u001b[0m\u001b[0;34m=\u001b[0m\u001b[0mwhiskerprops\u001b[0m\u001b[0;34m,\u001b[0m\u001b[0;34m\u001b[0m\u001b[0;34m\u001b[0m\u001b[0m\n\u001b[0;32m-> 3815\u001b[0;31m                            manage_ticks=manage_ticks, zorder=zorder)\n\u001b[0m\u001b[1;32m   3816\u001b[0m         \u001b[0;32mreturn\u001b[0m \u001b[0martists\u001b[0m\u001b[0;34m\u001b[0m\u001b[0;34m\u001b[0m\u001b[0m\n\u001b[1;32m   3817\u001b[0m \u001b[0;34m\u001b[0m\u001b[0m\n",
      "\u001b[0;32m~/.pyenv/versions/3.7.9/envs/allennlp-dev/lib/python3.7/site-packages/matplotlib/axes/_axes.py\u001b[0m in \u001b[0;36mbxp\u001b[0;34m(self, bxpstats, positions, widths, vert, patch_artist, shownotches, showmeans, showcaps, showbox, showfliers, boxprops, whiskerprops, flierprops, medianprops, capprops, meanprops, meanline, manage_ticks, zorder)\u001b[0m\n\u001b[1;32m   3977\u001b[0m             \u001b[0mpositions\u001b[0m \u001b[0;34m=\u001b[0m \u001b[0mlist\u001b[0m\u001b[0;34m(\u001b[0m\u001b[0mrange\u001b[0m\u001b[0;34m(\u001b[0m\u001b[0;36m1\u001b[0m\u001b[0;34m,\u001b[0m \u001b[0mN\u001b[0m \u001b[0;34m+\u001b[0m \u001b[0;36m1\u001b[0m\u001b[0;34m)\u001b[0m\u001b[0;34m)\u001b[0m\u001b[0;34m\u001b[0m\u001b[0;34m\u001b[0m\u001b[0m\n\u001b[1;32m   3978\u001b[0m         \u001b[0;32melif\u001b[0m \u001b[0mlen\u001b[0m\u001b[0;34m(\u001b[0m\u001b[0mpositions\u001b[0m\u001b[0;34m)\u001b[0m \u001b[0;34m!=\u001b[0m \u001b[0mN\u001b[0m\u001b[0;34m:\u001b[0m\u001b[0;34m\u001b[0m\u001b[0;34m\u001b[0m\u001b[0m\n\u001b[0;32m-> 3979\u001b[0;31m             \u001b[0;32mraise\u001b[0m \u001b[0mValueError\u001b[0m\u001b[0;34m(\u001b[0m\u001b[0mdatashape_message\u001b[0m\u001b[0;34m.\u001b[0m\u001b[0mformat\u001b[0m\u001b[0;34m(\u001b[0m\u001b[0;34m\"positions\"\u001b[0m\u001b[0;34m)\u001b[0m\u001b[0;34m)\u001b[0m\u001b[0;34m\u001b[0m\u001b[0;34m\u001b[0m\u001b[0m\n\u001b[0m\u001b[1;32m   3980\u001b[0m \u001b[0;34m\u001b[0m\u001b[0m\n\u001b[1;32m   3981\u001b[0m         \u001b[0mpositions\u001b[0m \u001b[0;34m=\u001b[0m \u001b[0mnp\u001b[0m\u001b[0;34m.\u001b[0m\u001b[0marray\u001b[0m\u001b[0;34m(\u001b[0m\u001b[0mpositions\u001b[0m\u001b[0;34m)\u001b[0m\u001b[0;34m\u001b[0m\u001b[0;34m\u001b[0m\u001b[0m\n",
      "\u001b[0;31mValueError\u001b[0m: List of boxplot statistics and `positions` values must have same the length"
     ]
    },
    {
     "data": {
      "image/png": "[encoded data removed]",
      "text/plain": [
       "<Figure size 600x400 with 1 Axes>"
      ]
     },
     "metadata": {
      "needs_background": "light"
     },
     "output_type": "display_data"
    }
   ],
   "source": [
    "\n",
    "dataset_name = \"sentiment-lexicon\"\n",
    "model_name = 'roberta-base'\n",
    "seq_max_len=None\n",
    "df = get_result(dataset_name, model_name)\n",
    "print('total size: ', len(df))\n",
    "df = df[df.countO== 1][df.wcr1 == 1]\n",
    "print('total size: ', len(df))\n",
    "df = df.iloc[[True if len(lst)==1 else False for lst in df['text'] ]]\n",
    "print('total size: ', len(df))\n",
    "\n",
    "fig = plt.figure( figsize=(6, 4), dpi=100 )\n",
    "ax = fig.add_subplot(1,1,1)\n",
    "groups = df.groupby('countM')['cos_sim']\n",
    "def set_box_color(bp, color):\n",
    "    plt.setp(bp['boxes'], color=color)\n",
    "    plt.setp(bp['whiskers'], color=color)\n",
    "    plt.setp(bp['caps'], color=color)\n",
    "    plt.setp(bp['medians'], color=color)\n",
    "bert_sim_by_m_scores = []\n",
    "ticks = []\n",
    "for name, group in groups:\n",
    "    print(name, ':', len(group.values))\n",
    "    if len(group.values) < 30:\n",
    "        continue\n",
    "    ticks.append(int(name))\n",
    "    bert_sim_by_m_scores.append(group.values)\n",
    "    \n",
    "print(ticks)\n",
    "bpl = ax.boxplot(bert_sim_by_m_scores, sym='', positions=range(0, len(ticks), 1), widths=0.3)\n",
    "set_box_color(bpl, '#000000') # colors are from http://colorbrewer2.org/\n",
    "ax.set_xticks(range(0, len(ticks), 1), ticks)\n",
    "ax.set_xlabel('M_score')\n",
    "ax.set_ylabel('Similarity')\n",
    "# ax.set_ylim(0, 1)\n",
    "# ax.set_xlim(0, 5)\n",
    "plt.show()\n",
    "# positions=np.array(range(len(bert_sim_by_m_scores)))*2\n"
   ]
  },
  {
   "cell_type": "code",
   "execution_count": 32,
   "metadata": {},
   "outputs": [
    {
     "data": {
      "image/png": "[encoded data removed]",
      "text/plain": [
       "<Figure size 600x400 with 1 Axes>"
      ]
     },
     "metadata": {
      "needs_background": "light"
     },
     "output_type": "display_data"
    }
   ],
   "source": [
    "\n",
    "# sentiment-lexicon-sim\n",
    "result = {\n",
    "    'BERT': {1: 0.69, 2: 0.60, 3: 0.58, 4: 0.52, 5: 0.47}, \n",
    "    'RoBERTa': {1:0.97,2:0.96,3:0.95,4:0.94},\n",
    "    'ALBERT': {1:0.78, 2:0.73, 3:0.64, 4:0.56, 5:0.45}\n",
    "    }\n",
    "\n",
    "# sst2-sim\n",
    "# result = {\n",
    "#     'BERT': {2: 0.52, 3: 0.50, 4: 0.48}, \n",
    "#     'RoBERTa': {1:0.56, 2:0.54, 3:0.53},\n",
    "#     'ALBERT': { 2:0.64, 3:0.57, 4: 0.51}\n",
    "#     }\n",
    "\n",
    "\n",
    "# ag-news-sim\n",
    "# result = {\n",
    "#     'BERT': {2: 0.87, 3: 0.86, 4: 0.84}, \n",
    "#     'RoBERTa': {1:0.52,2:0.56,3:0.54,4:0.58},\n",
    "#     'ALBERT': { 2:0.75, 3:0.75, 4: 0.74}\n",
    "#     }\n",
    "\n",
    "fig = plt.figure( figsize=(6, 4), dpi=100 )\n",
    "ax = fig.add_subplot(1,1,1)\n",
    "ax.plot(result['BERT'].keys(), result['BERT'].values(), color='black', linewidth=1.5, linestyle='-', marker='v', label='BERT')\n",
    "ax.plot(result['RoBERTa'].keys(), result['RoBERTa'].values(), color='black', linewidth=1.5, linestyle='--', marker='o', label='RoBERTa')\n",
    "ax.plot(result['ALBERT'].keys(), result['ALBERT'].values(), color='black', linewidth=1.5, linestyle=':', marker='*', label='ALBERT')\n",
    "plt.xticks(np.linspace(0, 5, 6))\n",
    "plt.yticks(np.linspace(0.4, 1, 7))\n",
    "ax.set_ylim(0.4,1)\n",
    "ax.set_xlabel('WCS-1')\n",
    "ax.set_ylabel('Similarity')\n",
    "plt.legend(loc='best', frameon=True)\n",
    "plt.show()\n"
   ]
  },
  {
   "cell_type": "code",
   "execution_count": null,
   "metadata": {},
   "outputs": [],
   "source": [
    "\n",
    "# sst2-acc\n",
    "# result = {\n",
    "#     'BERT': {2: 1-0.68, 3: 1-0.65, 4: 1-0.62}, \n",
    "#     'RoBERTa': {1:1-0.76, 2:1-0.74, 3:1-0.71},\n",
    "#     'ALBERT': { 2:1-0.72, 3:1-0.69, 4: 1-0.66}\n",
    "#     }\n",
    "\n",
    "# ag-news-acc\n",
    "# result = {\n",
    "#     'BERT': {2: 1-0.91, 3: 1-0.91, 4: 1-0.90}, \n",
    "#     'RoBERTa': {1:1-0.66,2:1-0.74,3:1-0.71,4:1-0.74},\n",
    "#     'ALBERT': { 2:1-0.91, 3:1-0.91, 4: 1-0.90,}\n",
    "#     }\n",
    "\n",
    "\n",
    "fig = plt.figure( figsize=(6, 4), dpi=100 )\n",
    "ax = fig.add_subplot(1,1,1)\n",
    "ax.plot(result['BERT'].keys(), result['BERT'].values(), color='black', linewidth=1.5, linestyle='-', marker='v', label='BERT')\n",
    "ax.plot(result['RoBERTa'].keys(), result['RoBERTa'].values(), color='black', linewidth=1.5, linestyle='--', marker='o', label='RoBERTa')\n",
    "ax.plot(result['ALBERT'].keys(), result['ALBERT'].values(), color='black', linewidth=1.5, linestyle=':', marker='*', label='ALBERT')\n",
    "plt.xticks(np.linspace(0, 5, 6))\n",
    "plt.yticks(np.linspace(0, 0.4, 5))\n",
    "ax.set_ylim(0,0.5)\n",
    "ax.set_xlabel('WCS-1')\n",
    "ax.set_ylabel('Misclassification Rate')\n",
    "plt.legend(loc='best', frameon=True)\n",
    "plt.show()\n",
    "# for acc\n",
    "ax.set_ylim(0,5)\n",
    "ax.set_ylim(0.6,0.93)\n",
    "\n"
   ]
  },
  {
   "cell_type": "code",
   "execution_count": 5,
   "metadata": {},
   "outputs": [
    {
     "data": {
      "text/html": [
       "Peru <font color = blue>Gov't</font> : <font color = blue>Police</font> <font color = blue>Killed</font> in Self - Defense Peru 's interior minister <font color = blue>said</font> Wednesday that police acted in self - <font color = blue>defense</font> when they killed three <font color = blue>coca</font> farmers who were part of a group that hurled rocks and tried to burn a police <font color = blue>lieutenant</font> alive to protest U.S.-backed eradication of their <font color = blue>cocaine</font> <font color = blue>producing</font> <font color = blue>crop</font> ."
      ],
      "text/plain": [
       "<IPython.core.display.HTML object>"
      ]
     },
     "metadata": {},
     "output_type": "display_data"
    },
    {
     "data": {
      "text/html": [
       "Peru <font color = purple>GoB't</font> : <font color = purple>PoPice</font> <font color = purple>KillSd</font> in Self - Defense Peru 's interior minister <font color = purple>sald</font> Wednesday that police acted in self - <font color = purple>dDfense</font> when they killed three <font color = purple>cocS</font> farmers who were part of a group that hurled rocks and tried to burn a police <font color = purple>lieutemant</font> alive to protest U.S.-backed eradication of their <font color = purple>coca7ne</font> <font color = purple>produDing</font> <font color = purple>Drop</font> ."
      ],
      "text/plain": [
       "<IPython.core.display.HTML object>"
      ]
     },
     "metadata": {},
     "output_type": "display_data"
    },
    {
     "data": {
      "text/plain": [
       "(\"Peru <font color = blue>Gov't</font> : <font color = blue>Police</font> <font color = blue>Killed</font> in Self - Defense Peru 's interior minister <font color = blue>said</font> Wednesday that police acted in self - <font color = blue>defense</font> when they killed three <font color = blue>coca</font> farmers who were part of a group that hurled rocks and tried to burn a police <font color = blue>lieutenant</font> alive to protest U.S.-backed eradication of their <font color = blue>cocaine</font> <font color = blue>producing</font> <font color = blue>crop</font> .\",\n",
       " \"Peru <font color = purple>GoB't</font> : <font color = purple>PoPice</font> <font color = purple>KillSd</font> in Self - Defense Peru 's interior minister <font color = purple>sald</font> Wednesday that police acted in self - <font color = purple>dDfense</font> when they killed three <font color = purple>cocS</font> farmers who were part of a group that hurled rocks and tried to burn a police <font color = purple>lieutemant</font> alive to protest U.S.-backed eradication of their <font color = purple>coca7ne</font> <font color = purple>produDing</font> <font color = purple>Drop</font> .\")"
      ]
     },
     "execution_count": 5,
     "metadata": {},
     "output_type": "execute_result"
    }
   ],
   "source": [
    "import pickle\n",
    "dataset_name = 'ag_news'\n",
    "with open(f\"outputs/{dataset_name}_noisy.pickle\", 'rb') as file:\n",
    "    samples = pickle.load(file)\n",
    "\n",
    "visualize_text_diff(' '.join(samples[1][1]['x']), ' '.join(samples[1][1]['x_keyboard']), color_method='html')"
   ]
  },
  {
   "cell_type": "code",
   "execution_count": null,
   "metadata": {},
   "outputs": [],
   "source": [
    "def get_result(example, y):\n",
    "    result = dict()\n",
    "    device = next(model.parameters()).device\n",
    "    label = torch.LongTensor([y]).unsqueeze(0).to(device)\n",
    "    for k, v in example.items():\n",
    "        if k.startswith('x'):\n",
    "            X = tokenizer.encode_plus(v, return_tensors='pt')\n",
    "            X = {k: v.to(device) for k, v in X.items()}\n",
    "            model_output = model(**X, labels=label)\n",
    "            result['logits_'+k[2:]] = model_output['logits']\n",
    "    return result\n",
    "\n",
    "get_result(example, y)"
   ]
  }
 ],
 "metadata": {
  "interpreter": {
   "hash": "23b04ccbd0ebf9a379475fdf3211eaaf98859dac7e2af73e3f6f3303c032dc6f"
  },
  "kernelspec": {
   "display_name": "Python 3.7.9 64-bit ('allennlp-dev')",
   "language": "python",
   "name": "python3"
  },
  "language_info": {
   "codemirror_mode": {
    "name": "ipython",
    "version": 3
   },
   "file_extension": ".py",
   "mimetype": "text/x-python",
   "name": "python",
   "nbconvert_exporter": "python",
   "pygments_lexer": "ipython3",
   "version": "3.7.9"
  },
  "orig_nbformat": 4
 },
 "nbformat": 4,
 "nbformat_minor": 2
}
